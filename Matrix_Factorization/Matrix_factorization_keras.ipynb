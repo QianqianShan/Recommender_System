{
 "cells": [
  {
   "cell_type": "markdown",
   "metadata": {},
   "source": [
    "Matrix Factorization in Keras with Gradient Descent Optimization Algorithm."
   ]
  },
  {
   "cell_type": "code",
   "execution_count": 4,
   "metadata": {},
   "outputs": [],
   "source": [
    "import os \n",
    "import pickle\n",
    "import numpy as np\n",
    "import pandas as pd\n",
    "import matplotlib.pyplot as plt\n",
    "from sklearn.utils import shuffle\n",
    "\n",
    "from keras.models import Model \n",
    "from keras.layers import Input, Embedding, Dot, Add, Flatten \n",
    "from keras.regularizers import l2 \n",
    "from keras.optimizers import SGD, Adam"
   ]
  },
  {
   "cell_type": "code",
   "execution_count": 5,
   "metadata": {},
   "outputs": [
    {
     "data": {
      "text/html": [
       "<div>\n",
       "<style scoped>\n",
       "    .dataframe tbody tr th:only-of-type {\n",
       "        vertical-align: middle;\n",
       "    }\n",
       "\n",
       "    .dataframe tbody tr th {\n",
       "        vertical-align: top;\n",
       "    }\n",
       "\n",
       "    .dataframe thead th {\n",
       "        text-align: right;\n",
       "    }\n",
       "</style>\n",
       "<table border=\"1\" class=\"dataframe\">\n",
       "  <thead>\n",
       "    <tr style=\"text-align: right;\">\n",
       "      <th></th>\n",
       "      <th>userId</th>\n",
       "      <th>movieId</th>\n",
       "      <th>rating</th>\n",
       "      <th>movie_idx</th>\n",
       "    </tr>\n",
       "  </thead>\n",
       "  <tbody>\n",
       "    <tr>\n",
       "      <th>0</th>\n",
       "      <td>7307</td>\n",
       "      <td>1</td>\n",
       "      <td>4.5</td>\n",
       "      <td>10</td>\n",
       "    </tr>\n",
       "    <tr>\n",
       "      <th>1</th>\n",
       "      <td>7307</td>\n",
       "      <td>10</td>\n",
       "      <td>2.5</td>\n",
       "      <td>68</td>\n",
       "    </tr>\n",
       "    <tr>\n",
       "      <th>2</th>\n",
       "      <td>7307</td>\n",
       "      <td>19</td>\n",
       "      <td>3.5</td>\n",
       "      <td>143</td>\n",
       "    </tr>\n",
       "    <tr>\n",
       "      <th>3</th>\n",
       "      <td>7307</td>\n",
       "      <td>32</td>\n",
       "      <td>5.0</td>\n",
       "      <td>19</td>\n",
       "    </tr>\n",
       "    <tr>\n",
       "      <th>4</th>\n",
       "      <td>7307</td>\n",
       "      <td>39</td>\n",
       "      <td>4.5</td>\n",
       "      <td>85</td>\n",
       "    </tr>\n",
       "  </tbody>\n",
       "</table>\n",
       "</div>"
      ],
      "text/plain": [
       "   userId  movieId  rating  movie_idx\n",
       "0    7307        1     4.5         10\n",
       "1    7307       10     2.5         68\n",
       "2    7307       19     3.5        143\n",
       "3    7307       32     5.0         19\n",
       "4    7307       39     4.5         85"
      ]
     },
     "execution_count": 5,
     "metadata": {},
     "output_type": "execute_result"
    }
   ],
   "source": [
    "# load data \n",
    "os.chdir(r'/home/qshan/Desktop/Repos/Big_Data_Projects/Recommender_System/Matrix_Factorization')\n",
    "df = pd.read_csv('../data/ml-20m/small_ratings.csv')\n",
    "df.head()"
   ]
  },
  {
   "cell_type": "code",
   "execution_count": 6,
   "metadata": {},
   "outputs": [
    {
     "data": {
      "text/html": [
       "<div>\n",
       "<style scoped>\n",
       "    .dataframe tbody tr th:only-of-type {\n",
       "        vertical-align: middle;\n",
       "    }\n",
       "\n",
       "    .dataframe tbody tr th {\n",
       "        vertical-align: top;\n",
       "    }\n",
       "\n",
       "    .dataframe thead th {\n",
       "        text-align: right;\n",
       "    }\n",
       "</style>\n",
       "<table border=\"1\" class=\"dataframe\">\n",
       "  <thead>\n",
       "    <tr style=\"text-align: right;\">\n",
       "      <th></th>\n",
       "      <th>userId</th>\n",
       "      <th>movieId</th>\n",
       "      <th>rating</th>\n",
       "      <th>movie_idx</th>\n",
       "    </tr>\n",
       "  </thead>\n",
       "  <tbody>\n",
       "    <tr>\n",
       "      <th>count</th>\n",
       "      <td>5.392025e+06</td>\n",
       "      <td>5.392025e+06</td>\n",
       "      <td>5.392025e+06</td>\n",
       "      <td>5.392025e+06</td>\n",
       "    </tr>\n",
       "    <tr>\n",
       "      <th>mean</th>\n",
       "      <td>4.064699e+03</td>\n",
       "      <td>6.735166e+03</td>\n",
       "      <td>3.448249e+00</td>\n",
       "      <td>6.865674e+02</td>\n",
       "    </tr>\n",
       "    <tr>\n",
       "      <th>std</th>\n",
       "      <td>2.904367e+03</td>\n",
       "      <td>1.498554e+04</td>\n",
       "      <td>1.016841e+00</td>\n",
       "      <td>5.495762e+02</td>\n",
       "    </tr>\n",
       "    <tr>\n",
       "      <th>min</th>\n",
       "      <td>0.000000e+00</td>\n",
       "      <td>1.000000e+00</td>\n",
       "      <td>5.000000e-01</td>\n",
       "      <td>0.000000e+00</td>\n",
       "    </tr>\n",
       "    <tr>\n",
       "      <th>25%</th>\n",
       "      <td>1.471000e+03</td>\n",
       "      <td>1.172000e+03</td>\n",
       "      <td>3.000000e+00</td>\n",
       "      <td>2.110000e+02</td>\n",
       "    </tr>\n",
       "    <tr>\n",
       "      <th>50%</th>\n",
       "      <td>3.614000e+03</td>\n",
       "      <td>2.289000e+03</td>\n",
       "      <td>3.500000e+00</td>\n",
       "      <td>5.520000e+02</td>\n",
       "    </tr>\n",
       "    <tr>\n",
       "      <th>75%</th>\n",
       "      <td>6.432000e+03</td>\n",
       "      <td>4.033000e+03</td>\n",
       "      <td>4.000000e+00</td>\n",
       "      <td>1.078000e+03</td>\n",
       "    </tr>\n",
       "    <tr>\n",
       "      <th>max</th>\n",
       "      <td>9.999000e+03</td>\n",
       "      <td>1.093740e+05</td>\n",
       "      <td>5.000000e+00</td>\n",
       "      <td>1.999000e+03</td>\n",
       "    </tr>\n",
       "  </tbody>\n",
       "</table>\n",
       "</div>"
      ],
      "text/plain": [
       "             userId       movieId        rating     movie_idx\n",
       "count  5.392025e+06  5.392025e+06  5.392025e+06  5.392025e+06\n",
       "mean   4.064699e+03  6.735166e+03  3.448249e+00  6.865674e+02\n",
       "std    2.904367e+03  1.498554e+04  1.016841e+00  5.495762e+02\n",
       "min    0.000000e+00  1.000000e+00  5.000000e-01  0.000000e+00\n",
       "25%    1.471000e+03  1.172000e+03  3.000000e+00  2.110000e+02\n",
       "50%    3.614000e+03  2.289000e+03  3.500000e+00  5.520000e+02\n",
       "75%    6.432000e+03  4.033000e+03  4.000000e+00  1.078000e+03\n",
       "max    9.999000e+03  1.093740e+05  5.000000e+00  1.999000e+03"
      ]
     },
     "execution_count": 6,
     "metadata": {},
     "output_type": "execute_result"
    }
   ],
   "source": [
    "df.describe()"
   ]
  },
  {
   "cell_type": "code",
   "execution_count": 8,
   "metadata": {},
   "outputs": [
    {
     "name": "stdout",
     "output_type": "stream",
     "text": [
      "Max of users id, N = 10000 \n",
      "\n",
      "Max movies id M, = 2000 \n",
      "\n"
     ]
    }
   ],
   "source": [
    "# number of users and movies \n",
    "N = df.userId.max() + 1\n",
    "M = df.movie_idx.max() + 1\n",
    "print('Max of users id, N =', N, '\\n')\n",
    "print('Max movies id M, =', M, '\\n')"
   ]
  },
  {
   "cell_type": "code",
   "execution_count": 9,
   "metadata": {},
   "outputs": [],
   "source": [
    "# randomly shuffle to obtain train and test data \n",
    "df = shuffle(df)\n",
    "cutoff = int(0.8 * len(df))\n",
    "df_train = df.iloc[ :cutoff]\n",
    "df_test = df.iloc[cutoff: ]\n"
   ]
  },
  {
   "cell_type": "code",
   "execution_count": 10,
   "metadata": {},
   "outputs": [],
   "source": [
    "# initialization \n",
    "\n",
    "# latent dimensionality \n",
    "K = 10 \n",
    "# global mean \n",
    "mu = df_train.rating.mean()\n",
    "epochs = 30 \n",
    "# penalty \n",
    "lambda_ = 10."
   ]
  },
  {
   "cell_type": "code",
   "execution_count": 12,
   "metadata": {},
   "outputs": [
    {
     "name": "stdout",
     "output_type": "stream",
     "text": [
      "WARNING:tensorflow:From /home/qshan/.local/lib/python3.6/site-packages/tensorflow/python/framework/op_def_library.py:263: colocate_with (from tensorflow.python.framework.ops) is deprecated and will be removed in a future version.\n",
      "Instructions for updating:\n",
      "Colocations handled automatically by placer.\n"
     ]
    }
   ],
   "source": [
    "# Keras model\n",
    "# two inputs with batch size = 1 \n",
    "u = Input(shape = (1, ))\n",
    "m = Input(shape = (1, ))\n",
    "\n",
    "# (N, 1, K), for a sequence of len 1 as input\n",
    "u_embedding = Embedding(N, K, embeddings_regularizer = l2(lambda_))(u) \n",
    "m_embedding = Embedding(M, K, embeddings_regularizer = l2(lambda_))(m)\n",
    "\n",
    "# subsubmodel = Model([u, m], [u_embedding, m_embedding])\n",
    "# user_ids = df_train.userId.values[0:5]\n",
    "# movie_ids = df_train.movie_idx.values[0:5]\n",
    "# print(\"user_ids.shape\", user_ids.shape)\n",
    "# p = subsubmodel.predict([user_ids, movie_ids])\n",
    "# print(\"p[0].shape:\", p[0].shape)\n",
    "# print(\"p[1].shape:\", p[1].shape)\n",
    "# exit()\n"
   ]
  },
  {
   "cell_type": "code",
   "execution_count": 13,
   "metadata": {},
   "outputs": [],
   "source": [
    "# Keras model bias terms \n",
    "u_bias = Embedding(N, 1, embeddings_regularizer = l2(lambda_))(u) # (N ,1 ,1)\n",
    "m_bias = Embedding(M, 1, embeddings_regularizer = l2(lambda_))(m) # (M, 1, 1)\n",
    "\n",
    "# multiply user vector and movie vector together \n",
    "# collapse on (sum over) the K size axis of (N, 1, K) for u_embedding\n",
    "x = Dot(axes = 2)([u_embedding, m_embedding]) # (N, 1, 1)\n",
    "\n",
    "# add together \n",
    "x = Add()([x, u_bias, m_bias])\n",
    "# (N, 1, 1) --> (N, 1)\n",
    "x = Flatten()(x)"
   ]
  },
  {
   "cell_type": "code",
   "execution_count": 14,
   "metadata": {},
   "outputs": [
    {
     "name": "stdout",
     "output_type": "stream",
     "text": [
      "WARNING:tensorflow:From /home/qshan/.local/lib/python3.6/site-packages/tensorflow/python/ops/math_ops.py:3066: to_int32 (from tensorflow.python.ops.math_ops) is deprecated and will be removed in a future version.\n",
      "Instructions for updating:\n",
      "Use tf.cast instead.\n",
      "Train on 4313620 samples, validate on 1078405 samples\n",
      "Epoch 1/30\n",
      "4313620/4313620 [==============================] - 113s 26us/step - loss: 0.6951 - mean_squared_error: 0.6951 - val_loss: 0.6793 - val_mean_squared_error: 0.6793\n",
      "Epoch 2/30\n",
      "4313620/4313620 [==============================] - 115s 27us/step - loss: 0.6648 - mean_squared_error: 0.6648 - val_loss: 0.6429 - val_mean_squared_error: 0.6429\n",
      "Epoch 3/30\n",
      "4313620/4313620 [==============================] - 116s 27us/step - loss: 0.6137 - mean_squared_error: 0.6137 - val_loss: 0.6003 - val_mean_squared_error: 0.6003\n",
      "Epoch 4/30\n",
      "4313620/4313620 [==============================] - 127s 29us/step - loss: 0.5762 - mean_squared_error: 0.5762 - val_loss: 0.5737 - val_mean_squared_error: 0.5737\n",
      "Epoch 5/30\n",
      "4313620/4313620 [==============================] - 123s 28us/step - loss: 0.5506 - mean_squared_error: 0.5506 - val_loss: 0.5591 - val_mean_squared_error: 0.5591\n",
      "Epoch 6/30\n",
      "4313620/4313620 [==============================] - 117s 27us/step - loss: 0.5379 - mean_squared_error: 0.5379 - val_loss: 0.5536 - val_mean_squared_error: 0.5536\n",
      "Epoch 7/30\n",
      "4313620/4313620 [==============================] - 118s 27us/step - loss: 0.5324 - mean_squared_error: 0.5324 - val_loss: 0.5511 - val_mean_squared_error: 0.5511\n",
      "Epoch 8/30\n",
      "4313620/4313620 [==============================] - 122s 28us/step - loss: 0.5297 - mean_squared_error: 0.5297 - val_loss: 0.5496 - val_mean_squared_error: 0.5496\n",
      "Epoch 9/30\n",
      "4313620/4313620 [==============================] - 141s 33us/step - loss: 0.5282 - mean_squared_error: 0.5282 - val_loss: 0.5489 - val_mean_squared_error: 0.5489\n",
      "Epoch 10/30\n",
      "4313620/4313620 [==============================] - 99s 23us/step - loss: 0.5272 - mean_squared_error: 0.5272 - val_loss: 0.5488 - val_mean_squared_error: 0.5488\n",
      "Epoch 11/30\n",
      "4313620/4313620 [==============================] - 102s 24us/step - loss: 0.5267 - mean_squared_error: 0.5267 - val_loss: 0.5484 - val_mean_squared_error: 0.5484\n",
      "Epoch 12/30\n",
      "4313620/4313620 [==============================] - 96s 22us/step - loss: 0.5262 - mean_squared_error: 0.5262 - val_loss: 0.5484 - val_mean_squared_error: 0.5484\n",
      "Epoch 13/30\n",
      "4313620/4313620 [==============================] - 103s 24us/step - loss: 0.5259 - mean_squared_error: 0.5259 - val_loss: 0.5480 - val_mean_squared_error: 0.5480\n",
      "Epoch 14/30\n",
      "4313620/4313620 [==============================] - 127s 29us/step - loss: 0.5257 - mean_squared_error: 0.5257 - val_loss: 0.5482 - val_mean_squared_error: 0.5482\n",
      "Epoch 15/30\n",
      "4313620/4313620 [==============================] - 126s 29us/step - loss: 0.5255 - mean_squared_error: 0.5255 - val_loss: 0.5478 - val_mean_squared_error: 0.5478\n",
      "Epoch 16/30\n",
      "4313620/4313620 [==============================] - 122s 28us/step - loss: 0.5254 - mean_squared_error: 0.5254 - val_loss: 0.5479 - val_mean_squared_error: 0.5479\n",
      "Epoch 17/30\n",
      "4313620/4313620 [==============================] - 68s 16us/step - loss: 0.5251 - mean_squared_error: 0.5251 - val_loss: 0.5484 - val_mean_squared_error: 0.5484\n",
      "Epoch 18/30\n",
      "4313620/4313620 [==============================] - 46s 11us/step - loss: 0.5251 - mean_squared_error: 0.5251 - val_loss: 0.5482 - val_mean_squared_error: 0.5482\n",
      "Epoch 19/30\n",
      "4313620/4313620 [==============================] - 46s 11us/step - loss: 0.5250 - mean_squared_error: 0.5250 - val_loss: 0.5483 - val_mean_squared_error: 0.5483\n",
      "Epoch 20/30\n",
      "4313620/4313620 [==============================] - 48s 11us/step - loss: 0.5249 - mean_squared_error: 0.5249 - val_loss: 0.5477 - val_mean_squared_error: 0.5477\n",
      "Epoch 21/30\n",
      "4313620/4313620 [==============================] - 43s 10us/step - loss: 0.5248 - mean_squared_error: 0.5248 - val_loss: 0.5480 - val_mean_squared_error: 0.5480\n",
      "Epoch 22/30\n",
      "4313620/4313620 [==============================] - 43s 10us/step - loss: 0.5248 - mean_squared_error: 0.5248 - val_loss: 0.5483 - val_mean_squared_error: 0.5483\n",
      "Epoch 23/30\n",
      "4313620/4313620 [==============================] - 43s 10us/step - loss: 0.5248 - mean_squared_error: 0.5248 - val_loss: 0.5480 - val_mean_squared_error: 0.5480\n",
      "Epoch 24/30\n",
      "4313620/4313620 [==============================] - 43s 10us/step - loss: 0.5246 - mean_squared_error: 0.5246 - val_loss: 0.5484 - val_mean_squared_error: 0.5484\n",
      "Epoch 25/30\n",
      "4313620/4313620 [==============================] - 107s 25us/step - loss: 0.5246 - mean_squared_error: 0.5246 - val_loss: 0.5479 - val_mean_squared_error: 0.5479\n",
      "Epoch 26/30\n",
      "4313620/4313620 [==============================] - 134s 31us/step - loss: 0.5246 - mean_squared_error: 0.5246 - val_loss: 0.5484 - val_mean_squared_error: 0.5484\n",
      "Epoch 27/30\n",
      "4313620/4313620 [==============================] - 133s 31us/step - loss: 0.5246 - mean_squared_error: 0.5246 - val_loss: 0.5483 - val_mean_squared_error: 0.5483\n",
      "Epoch 28/30\n",
      "4313620/4313620 [==============================] - 113s 26us/step - loss: 0.5246 - mean_squared_error: 0.5246 - val_loss: 0.5483 - val_mean_squared_error: 0.5483\n",
      "Epoch 29/30\n",
      "4313620/4313620 [==============================] - 123s 28us/step - loss: 0.5245 - mean_squared_error: 0.5245 - val_loss: 0.5482 - val_mean_squared_error: 0.5482\n",
      "Epoch 30/30\n",
      "4313620/4313620 [==============================] - 113s 26us/step - loss: 0.5244 - mean_squared_error: 0.5244 - val_loss: 0.5484 - val_mean_squared_error: 0.5484\n"
     ]
    }
   ],
   "source": [
    "# build model \n",
    "model = Model(inputs = [u, m], outputs = x)\n",
    "\n",
    "# compile \n",
    "# if there is penalty, mse from loss includes regularization, will be bigger than real mse (metrics mse)\n",
    "model.compile(loss = 'mse', optimizer = SGD(lr = 0.08, momentum = 0.9), metrics = ['mse'])\n",
    "\n",
    "# fit model \n",
    "r = model.fit(\n",
    "              x = [df_train.userId.values, df_train.movie_idx.values],\n",
    "              y = df_train.rating.values - mu,\n",
    "              epochs = epochs, \n",
    "              batch_size = 128, \n",
    "              validation_data = ([df_test.userId.values, df_test.movie_idx.values],\n",
    "                                  df_test.rating.values - mu))"
   ]
  },
  {
   "cell_type": "code",
   "execution_count": 15,
   "metadata": {},
   "outputs": [
    {
     "data": {
      "image/png": "[encoded data removed]",
      "text/plain": [
       "<Figure size 432x288 with 1 Axes>"
      ]
     },
     "metadata": {
      "needs_background": "light"
     },
     "output_type": "display_data"
    },
    {
     "data": {
      "image/png": "[encoded data removed]",
      "text/plain": [
       "<Figure size 432x288 with 1 Axes>"
      ]
     },
     "metadata": {
      "needs_background": "light"
     },
     "output_type": "display_data"
    }
   ],
   "source": [
    "# plot \n",
    "plt.plot(r.history['loss'], label=\"train loss\")\n",
    "plt.plot(r.history['val_loss'], label=\"test loss\")\n",
    "plt.legend()\n",
    "plt.show()\n",
    "\n",
    "# plot mse\n",
    "plt.plot(r.history['mean_squared_error'], label=\"train mse\")\n",
    "plt.plot(r.history['val_mean_squared_error'], label=\"test mse\")\n",
    "plt.legend()\n",
    "plt.show()"
   ]
  }
 ],
 "metadata": {
  "kernelspec": {
   "display_name": "Python 3",
   "language": "python",
   "name": "python3"
  },
  "language_info": {
   "codemirror_mode": {
    "name": "ipython",
    "version": 3
   },
   "file_extension": ".py",
   "mimetype": "text/x-python",
   "name": "python",
   "nbconvert_exporter": "python",
   "pygments_lexer": "ipython3",
   "version": "3.6.7"
  }
 },
 "nbformat": 4,
 "nbformat_minor": 2
}
