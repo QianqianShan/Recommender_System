{
 "cells": [
  {
   "cell_type": "markdown",
   "metadata": {},
   "source": [
    "Install java, scala, spark and modify SPARK_HOME according to \n",
    "https://medium.com/devilsadvocatediwakar/installing-apache-spark-on-ubuntu-8796bfdd0861\n",
    "\n",
    "pip3 install pyspark\n",
    "\n",
    "**This code is run in PySpark locally in command line on Ubuntu 18.04, PySpark is run under the same directory of this `Matrix_Factorization_with_PySpark.py` file**"
   ]
  },
  {
   "cell_type": "code",
   "execution_count": null,
   "metadata": {},
   "outputs": [],
   "source": [
    "import os\n",
    "# import alternatingly least squares (Alternating Least Squares matrix factorization), Rating object \n",
    "from pyspark.mllib.recommendation import ALS, MatrixFactorizationModel, Rating\n",
    "\n",
    "# load data \n",
    "data = sc.textFile('../data/ml-20m/small_ratings.csv')\n",
    "\n",
    "# the first row is header\n",
    "header = data.first()\n",
    "# skip header row \n",
    "data = data.filter(lambda row: row != header)\n",
    "\n",
    "# convert data to a sequence of Rating objects \n",
    "# (a triple of userId, movieId, rating)\n",
    "ratings = data.map(lambda row:row.split(',')).map(lambda l: Rating(int(l[0]), int(l[1]), float(l[2])))\n",
    "\n",
    "# split data into train and test sets \n",
    "train, test = ratings.randomSplit([0.8, 0.2])\n",
    "\n",
    "# build model \n",
    "K = 10 # latent dimensionality \n",
    "epochs = 15 \n",
    "model = ALS.train(train, K, epochs)\n",
    "\n",
    "# evaluate the model \n",
    "# x: (userId, movieId)\n",
    "x = train.map(lambda p:(p[0], p[1]))\n",
    "# make predictions, p is a tuple of (userId, movieId) and (predicted rating) \n",
    "p = model.predictAll(x).map(lambda r: ((r[0], r[1]), r[2]))\n",
    "\n",
    "# join actual and predicted ratings based on (userId, movieId)\n",
    "actual_and_preds = train.map(lambda r:((r[0], r[1]), r[2])).join(p)\n",
    "# actual_and_preds has format of ((userId, movieId), (actual rating, predicted rating))\n",
    "\n",
    "# look at the first 5 rows \n",
    "actual_and_preds.take(5)\n",
    "\n",
    "# mse \n",
    "mse = actual_and_preds.map(lambda r:(r[1][0] - r[1][1])**2).mean()\n",
    "print('train mse is %s' %mse)\n",
    "\n",
    "\n",
    "# similarly for test mse \n",
    "x = test.map(lambda p: (p[0], p[1]))\n",
    "p = model.predictAll(x).map(lambda r: ((r[0], r[1]), r[2]))\n",
    "ratesAndPreds = test.map(lambda r: ((r[0], r[1]), r[2])).join(p)\n",
    "mse = ratesAndPreds.map(lambda r: (r[1][0] - r[1][1])**2).mean()\n",
    "print(\"test mse: %s\" % mse)"
   ]
  }
 ],
 "metadata": {
  "kernelspec": {
   "display_name": "Python 3",
   "language": "python",
   "name": "python3"
  },
  "language_info": {
   "codemirror_mode": {
    "name": "ipython",
    "version": 3
   },
   "file_extension": ".py",
   "mimetype": "text/x-python",
   "name": "python",
   "nbconvert_exporter": "python",
   "pygments_lexer": "ipython3",
   "version": "3.6.8"
  }
 },
 "nbformat": 4,
 "nbformat_minor": 2
}
