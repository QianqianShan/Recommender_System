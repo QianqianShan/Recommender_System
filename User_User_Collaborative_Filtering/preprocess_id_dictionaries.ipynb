{
 "cells": [
  {
   "cell_type": "markdown",
   "metadata": {},
   "source": [
    "This script preprocess the data to three dictionaries: \n",
    "\n",
    "produce user: rated movies,\n",
    "\n",
    "movie:users rated this movie, \n",
    "\n",
    "(user, movie):rating"
   ]
  },
  {
   "cell_type": "code",
   "execution_count": 12,
   "metadata": {},
   "outputs": [],
   "source": [
    "import os \n",
    "import pickle \n",
    "import numpy as np \n",
    "import pandas as pd \n",
    "import matplotlib.pyplot as plt \n",
    "from sklearn.utils import shuffle \n",
    "\n",
    "# load data \n",
    "os.chdir(r'/home/qshan/Desktop/Repos/Big_Data_Projects/Recommender_System/User_User_Collaborative_Filtering')\n",
    "df = pd.read_csv('../data/ml-20m/small_ratings.csv')"
   ]
  },
  {
   "cell_type": "code",
   "execution_count": 13,
   "metadata": {},
   "outputs": [],
   "source": [
    "# randomly shuffle the data to create train/test data sets \n",
    "df = shuffle(df)\n",
    "cutoff = int(0.8 * len(df))\n",
    "df_train, df_test = df.iloc[ :cutoff], df.iloc[cutoff: ]"
   ]
  },
  {
   "cell_type": "code",
   "execution_count": 14,
   "metadata": {},
   "outputs": [],
   "source": [
    "# create dictionary to show which movies (value) are rated by which user(key)\n",
    "user_movie = {}\n",
    "\n",
    "# create dictionary to show which users (value) have rated which movie(key)\n",
    "movie_user = {}\n",
    "\n",
    "# create dictionary to find ratings for a user and a movie\n",
    "usermovie_rating = {}"
   ]
  },
  {
   "cell_type": "code",
   "execution_count": 15,
   "metadata": {},
   "outputs": [
    {
     "name": "stdout",
     "output_type": "stream",
     "text": [
      "Update dictionaries for train set\n",
      "Updating finished\n"
     ]
    }
   ],
   "source": [
    "print('Update dictionaries for train set')\n",
    "def update_user_movie(row):\n",
    "    # extract user and movie ids \n",
    "    user_id = int(row.userId)\n",
    "    movie_id = int(row.movie_idx)\n",
    "    \n",
    "    # update user_movie \n",
    "    if user_id not in user_movie:\n",
    "        user_movie[user_id] = [movie_id]\n",
    "    else:\n",
    "        user_movie[user_id].append(movie_id)\n",
    "    \n",
    "    # update movie_user \n",
    "    if movie_id not in movie_user:\n",
    "        movie_user[movie_id] = [user_id]\n",
    "    else:\n",
    "        movie_user[movie_id].append(user_id)\n",
    "    \n",
    "    # update usermovie_rating \n",
    "    usermovie_rating[(user_id, movie_id)] = row.rating\n",
    "\n",
    "df_train.apply(update_user_movie, axis = 1)\n",
    "print('Updating finished')"
   ]
  },
  {
   "cell_type": "code",
   "execution_count": 16,
   "metadata": {},
   "outputs": [
    {
     "name": "stdout",
     "output_type": "stream",
     "text": [
      "Update dictionary for test set\n",
      "Updating finished\n"
     ]
    }
   ],
   "source": [
    "\n",
    "# create a dictionary to find ratings for a user and a movie for test set \n",
    "print('Update dictionary for test set')\n",
    "usermovie_rating_test = {}\n",
    "def update_usermovie_test(row):\n",
    "    user_id = int(row.userId)\n",
    "    movie_id = int(row.movie_idx)\n",
    "    \n",
    "    usermovie_rating_test[(user_id, movie_id)] = row.rating\n",
    "df_test.apply(update_usermovie_test, axis = 1)\n",
    "\n",
    "print(\"Updating finished\")\n",
    "\n"
   ]
  },
  {
   "cell_type": "code",
   "execution_count": 17,
   "metadata": {},
   "outputs": [],
   "source": [
    "# save the dictionaries in binary format \n",
    "with open('../data/ml-20m/user_movie', 'wb') as f:\n",
    "    pickle.dump(user_movie, f)\n",
    "    \n",
    "with open('../data/ml-20m/movie_user', 'wb') as f:\n",
    "    pickle.dump(movie_user, f)\n",
    "    \n",
    "with open('../data/ml-20m/usermovie_rating', 'wb') as f:\n",
    "    pickle.dump(usermovie_rating, f)\n",
    "    \n",
    "with open('../data/ml-20m/usermovie_rating_test', 'wb') as f:\n",
    "    pickle.dump(usermovie_rating_test, f)"
   ]
  }
 ],
 "metadata": {
  "kernelspec": {
   "display_name": "Python 3",
   "language": "python",
   "name": "python3"
  },
  "language_info": {
   "codemirror_mode": {
    "name": "ipython",
    "version": 3
   },
   "file_extension": ".py",
   "mimetype": "text/x-python",
   "name": "python",
   "nbconvert_exporter": "python",
   "pygments_lexer": "ipython3",
   "version": "3.6.7"
  }
 },
 "nbformat": 4,
 "nbformat_minor": 2
}
