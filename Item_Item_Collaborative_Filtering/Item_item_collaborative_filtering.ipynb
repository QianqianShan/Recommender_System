{
 "cells": [
  {
   "cell_type": "markdown",
   "metadata": {},
   "source": [
    "Item-item CF uses the same preprocessed data as user-user CF, see how the data are preprocess from scripts in **User_User_Collaborative_Filtering folder**. "
   ]
  },
  {
   "cell_type": "code",
   "execution_count": null,
   "metadata": {},
   "outputs": [],
   "source": [
    "import os \n",
    "import pickle \n",
    "import numpy as np \n",
    "import pandas as pd \n",
    "import matplotlib.pyplot as plt \n",
    "from sklearn.utils import shuffle \n",
    "from datetime import datetime \n",
    "from sortedcontainers import SortedList "
   ]
  },
  {
   "cell_type": "code",
   "execution_count": null,
   "metadata": {},
   "outputs": [],
   "source": [
    "# load data \n",
    "os.chdir(r'/home/qshan/Desktop/Repos/Big_Data_Projects/Recommender_System/User_User_Collaborative_Filtering')\n",
    "with open('../data/ml-20m/user_movie', 'rb') as f:\n",
    "    user_movie = pickle.load(f)\n",
    " \n",
    "with open('../data/ml-20m/movie_user', 'rb') as f:\n",
    "    movie_user = pickle.load(f)\n",
    "    \n",
    "with open('../data/ml-20m/usermovie_rating', 'rb') as f:\n",
    "    usermovie_rating = pickle.load(f)\n",
    "    \n",
    "with open('../data/ml-20m/usermoive_rating_test', 'rb') as f:\n",
    "    usermovie_rating_test = pickle.load(f)\n"
   ]
  },
  {
   "cell_type": "code",
   "execution_count": null,
   "metadata": {},
   "outputs": [],
   "source": [
    "#  number of users and movies \n",
    "N = np.max(list(user_movie.keys())) + 1 \n",
    "\n",
    "M = max(np.max(list(movie_user.keys())), np.max([m_id for (_, m_id), _ in usermovie_rating_test.items()])) + 1\n",
    "\n",
    "print('Max of users id, N =', N, '\\n')\n",
    "print('Max movies id M, =', M, '\\n')"
   ]
  },
  {
   "cell_type": "code",
   "execution_count": null,
   "metadata": {},
   "outputs": [],
   "source": [
    "# number of neighbors to be used,drop the items with low weight w_ij \n",
    "K = 25 \n",
    "\n",
    "# number of common users must have for each item in order to compute correlation among items \n",
    "limit = 5 \n",
    "\n",
    "# list to save lists of neighbor info (-w_ij, j) for each item \n",
    "neighbors = []\n",
    "\n",
    "# items' average ratings \n",
    "averages = []\n",
    "\n",
    "# items' deviations \n",
    "deviations = []\n",
    "\n",
    "\n",
    "# loop through each movie to find K cloest neighbors to item i \n",
    "for i in range(M):\n",
    "    # users rated movie i \n",
    "    users_i = set(movie_user[i])\n",
    "    \n",
    "    # average and deviation \n",
    "    # ratings for movie i \n",
    "    ratings_i = [usermovie_rating[(user, i)] for user in users_i]\n",
    "    avg_i = np.mean(ratings_i)\n",
    "    \n",
    "    dev_i_vals = np.array([rating - avg_i for rating in ratings_i])\n",
    "    \n",
    "    sigma_i = np.sqrt(np.dot(dev_i_vals, dev_i_vals))\n",
    "    \n",
    "    averages.append(avg_i)\n",
    "    deviations.append(dev_i_vals)\n",
    "    \n",
    "    sl = SortedList()\n",
    "    for j in range(M):\n",
    "        if j == i:\n",
    "            continue \n",
    "        users_j = set(movie_user[j])\n",
    "        common_users = users_i & users_j\n",
    "        \n",
    "        if len(common_users) <= limit:\n",
    "            continue \n",
    "        ratings_j = [usermovie_rating[(user, j) for user in users_j]]\n",
    "        avg_j = np.mean(ratings_j)\n",
    "        dev_j_vals = np.array([rating - avg_j for rating in ratings_j])\n",
    "        sigma_j = np.sqrt(np.dot(dev_j_vals, dev_j_vals))\n",
    "        \n",
    "        # corrrelations \n",
    "        w_ij = sum(dev_i[u] * dev_j[u] for u in common_users) / (sigma_i * sigma_j)\n",
    "        \n",
    "        sl.add((-w_ij, j))\n",
    "        if len(sl) > K:\n",
    "            del sl[-1]\n",
    "    neighbors.append(sl)\n",
    "    if i % 1000 == 1:\n",
    "        print(i)"
   ]
  },
  {
   "cell_type": "code",
   "execution_count": null,
   "metadata": {},
   "outputs": [],
   "source": [
    "# prediction \n",
    "def predict(i, u):\n",
    "    numerator, denominator = 0, 0\n",
    "    for negative_w_ij, j in neighbors[i]:\n",
    "        try:\n",
    "            numerator += -negative_w_ij * deviations[j][u]\n",
    "            denominator += abs(negative_w_ij)\n",
    "        except KeyError:\n",
    "            pass\n",
    "    if denominator == 0:\n",
    "        prediction = averages[i]\n",
    "    else:\n",
    "        prediction = numerator / denominator + averages[i]\n",
    "    \n",
    "    prediction = min(5, prediction)\n",
    "    prediction = max(0.5, prediction)\n",
    "    return prediction \n",
    "\n",
    "# RMSE \n",
    "def rmse(y, y_hat):\n",
    "    y = np.array(y)\n",
    "    y_hat = np.array(y_hat)\n",
    "    return np.sqrt(np.mean((y - y_hat)**2))"
   ]
  },
  {
   "cell_type": "code",
   "execution_count": null,
   "metadata": {},
   "outputs": [],
   "source": [
    "# predicted score for each train example \n",
    "train_predictions = []\n",
    "\n",
    "# the true score \n",
    "train_targets = []\n",
    "\n",
    "for (u, m), target in usermovie_rating.items():\n",
    "    prediction = predict(m, u)\n",
    "    train_predictions.append(predictions)\n",
    "    train_targets.append(target)\n",
    "\n",
    "# prediction on test set \n",
    "test_predictions = []\n",
    "test_targets = []\n",
    "\n",
    "for (u, m), target in usermovie_rating_test.items():\n",
    "    prediction = predict(m, u)\n",
    "    test_predictions.append(prediction)\n",
    "    test_targets.append(target)\n",
    "    \n",
    "print('Train RMSE:', rmse(train_predictions, train_targets))\n",
    "print('Test RMSE:', rmse(test_predictions, test_targets))\n"
   ]
  }
 ],
 "metadata": {
  "kernelspec": {
   "display_name": "Python 3",
   "language": "python",
   "name": "python3"
  },
  "language_info": {
   "codemirror_mode": {
    "name": "ipython",
    "version": 3
   },
   "file_extension": ".py",
   "mimetype": "text/x-python",
   "name": "python",
   "nbconvert_exporter": "python",
   "pygments_lexer": "ipython3",
   "version": "3.6.7"
  }
 },
 "nbformat": 4,
 "nbformat_minor": 2
}
