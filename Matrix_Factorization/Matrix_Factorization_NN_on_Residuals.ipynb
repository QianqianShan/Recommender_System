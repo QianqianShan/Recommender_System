{
 "cells": [
  {
   "cell_type": "code",
   "execution_count": null,
   "metadata": {},
   "outputs": [],
   "source": []
  },
  {
   "cell_type": "code",
   "execution_count": 1,
   "metadata": {},
   "outputs": [
    {
     "name": "stderr",
     "output_type": "stream",
     "text": [
      "Using TensorFlow backend.\n"
     ]
    }
   ],
   "source": [
    "import os \n",
    "import pickle\n",
    "import numpy as np\n",
    "import pandas as pd\n",
    "import matplotlib.pyplot as plt\n",
    "from sklearn.utils import shuffle\n",
    "\n",
    "from keras.models import Model\n",
    "from keras.layers import Input, Embedding, Dot, Add, Flatten, Dense, Concatenate\n",
    "from keras.layers import Dropout, BatchNormalization, Activation\n",
    "from keras.regularizers import l2\n",
    "from keras.optimizers import SGD, Adam"
   ]
  },
  {
   "cell_type": "code",
   "execution_count": 3,
   "metadata": {},
   "outputs": [
    {
     "data": {
      "text/html": [
       "<div>\n",
       "<style scoped>\n",
       "    .dataframe tbody tr th:only-of-type {\n",
       "        vertical-align: middle;\n",
       "    }\n",
       "\n",
       "    .dataframe tbody tr th {\n",
       "        vertical-align: top;\n",
       "    }\n",
       "\n",
       "    .dataframe thead th {\n",
       "        text-align: right;\n",
       "    }\n",
       "</style>\n",
       "<table border=\"1\" class=\"dataframe\">\n",
       "  <thead>\n",
       "    <tr style=\"text-align: right;\">\n",
       "      <th></th>\n",
       "      <th>userId</th>\n",
       "      <th>movieId</th>\n",
       "      <th>rating</th>\n",
       "      <th>movie_idx</th>\n",
       "    </tr>\n",
       "  </thead>\n",
       "  <tbody>\n",
       "    <tr>\n",
       "      <th>0</th>\n",
       "      <td>7307</td>\n",
       "      <td>1</td>\n",
       "      <td>4.5</td>\n",
       "      <td>10</td>\n",
       "    </tr>\n",
       "    <tr>\n",
       "      <th>1</th>\n",
       "      <td>7307</td>\n",
       "      <td>10</td>\n",
       "      <td>2.5</td>\n",
       "      <td>68</td>\n",
       "    </tr>\n",
       "    <tr>\n",
       "      <th>2</th>\n",
       "      <td>7307</td>\n",
       "      <td>19</td>\n",
       "      <td>3.5</td>\n",
       "      <td>143</td>\n",
       "    </tr>\n",
       "    <tr>\n",
       "      <th>3</th>\n",
       "      <td>7307</td>\n",
       "      <td>32</td>\n",
       "      <td>5.0</td>\n",
       "      <td>19</td>\n",
       "    </tr>\n",
       "    <tr>\n",
       "      <th>4</th>\n",
       "      <td>7307</td>\n",
       "      <td>39</td>\n",
       "      <td>4.5</td>\n",
       "      <td>85</td>\n",
       "    </tr>\n",
       "  </tbody>\n",
       "</table>\n",
       "</div>"
      ],
      "text/plain": [
       "   userId  movieId  rating  movie_idx\n",
       "0    7307        1     4.5         10\n",
       "1    7307       10     2.5         68\n",
       "2    7307       19     3.5        143\n",
       "3    7307       32     5.0         19\n",
       "4    7307       39     4.5         85"
      ]
     },
     "execution_count": 3,
     "metadata": {},
     "output_type": "execute_result"
    }
   ],
   "source": [
    "# load data \n",
    "os.chdir(r'/home/qshan/Desktop/Repos/Big_Data_Projects/Recommender_System/Matrix_Factorization')\n",
    "df = pd.read_csv('../data/ml-20m/small_ratings.csv')\n",
    "df.head()"
   ]
  },
  {
   "cell_type": "code",
   "execution_count": 4,
   "metadata": {},
   "outputs": [
    {
     "name": "stdout",
     "output_type": "stream",
     "text": [
      "Max of users id, N = 10000 \n",
      "\n",
      "Max movies id M, = 2000 \n",
      "\n"
     ]
    }
   ],
   "source": [
    "# number of users and movies \n",
    "N = df.userId.max() + 1\n",
    "M = df.movie_idx.max() + 1\n",
    "print('Max of users id, N =', N, '\\n')\n",
    "print('Max movies id M, =', M, '\\n')"
   ]
  },
  {
   "cell_type": "code",
   "execution_count": 6,
   "metadata": {},
   "outputs": [],
   "source": [
    "# randomly shuffle to obtain train and test data \n",
    "df = shuffle(df)\n",
    "cutoff = int(0.8 * len(df))\n",
    "df_train = df.iloc[ :cutoff]\n",
    "df_test = df.iloc[cutoff: ]"
   ]
  },
  {
   "cell_type": "code",
   "execution_count": 7,
   "metadata": {},
   "outputs": [],
   "source": [
    "# initialization \n",
    "\n",
    "# latent dimensionality \n",
    "K = 10 \n",
    "# global mean \n",
    "mu = df_train.rating.mean()\n",
    "epochs = 10 \n",
    "# penalty \n",
    "lambda_ = 10."
   ]
  },
  {
   "cell_type": "code",
   "execution_count": 8,
   "metadata": {},
   "outputs": [
    {
     "name": "stdout",
     "output_type": "stream",
     "text": [
      "WARNING:tensorflow:From /home/qshan/.local/lib/python3.6/site-packages/tensorflow/python/framework/op_def_library.py:263: colocate_with (from tensorflow.python.framework.ops) is deprecated and will be removed in a future version.\n",
      "Instructions for updating:\n",
      "Colocations handled automatically by placer.\n"
     ]
    }
   ],
   "source": [
    "# Keras model\n",
    "# two inputs with batch size = 1 \n",
    "u = Input(shape = (1, ))\n",
    "m = Input(shape = (1, ))\n",
    "\n",
    "# (N, 1, K), for a sequence of len 1 \n",
    "u_embedding = Embedding(N, K, embeddings_regularizer = l2(lambda_))(u) \n",
    "m_embedding = Embedding(M, K, embeddings_regularizer = l2(lambda_))(m)\n",
    "\n",
    "\n",
    "# Keras model bias terms \n",
    "u_bias = Embedding(N, 1, embeddings_regularizer = l2(lambda_))(u) # (N ,1 ,1)\n",
    "m_bias = Embedding(M, 1, embeddings_regularizer = l2(lambda_))(m) # (M, 1, 1)\n",
    "\n",
    "# multiply user vector and movie vector together \n",
    "# collapse on (sum over) the K size axis of (N, 1, K) for u_embedding\n",
    "x = Dot(axes = 2)([u_embedding, m_embedding]) # (N, 1, 1)\n",
    "\n",
    "x = Add()([x, u_bias, m_bias])\n",
    "x = Flatten()(x) # (N, 1)\n",
    "\n",
    "\n",
    "# flatten \n",
    "u_embedding = Flatten()(u_embedding) # (N, K)\n",
    "m_embedding = Flatten()(m_embedding) # (N, K)\n",
    "\n",
    "y = Concatenate()([u_embedding, m_embedding]) # (N, 2K)\n",
    "y = Dense(400)(y)\n",
    "y = Activation('elu')(y)\n",
    "# y = Dropout(0.5)(y)\n",
    "y = Dense(1)(y)\n"
   ]
  },
  {
   "cell_type": "code",
   "execution_count": 9,
   "metadata": {},
   "outputs": [
    {
     "name": "stdout",
     "output_type": "stream",
     "text": [
      "WARNING:tensorflow:From /home/qshan/.local/lib/python3.6/site-packages/tensorflow/python/ops/math_ops.py:3066: to_int32 (from tensorflow.python.ops.math_ops) is deprecated and will be removed in a future version.\n",
      "Instructions for updating:\n",
      "Use tf.cast instead.\n",
      "Train on 4313620 samples, validate on 1078405 samples\n",
      "Epoch 1/10\n",
      "4313620/4313620 [==============================] - 188s 44us/step - loss: 1.3335 - mean_squared_error: 1.0403 - val_loss: 1.0763 - val_mean_squared_error: 1.0348\n",
      "Epoch 2/10\n",
      "4313620/4313620 [==============================] - 198s 46us/step - loss: 1.0629 - mean_squared_error: 1.0404 - val_loss: 1.0834 - val_mean_squared_error: 1.0402\n",
      "Epoch 3/10\n",
      "4313620/4313620 [==============================] - 203s 47us/step - loss: 1.0629 - mean_squared_error: 1.0404 - val_loss: 1.0950 - val_mean_squared_error: 1.0358\n",
      "Epoch 4/10\n",
      "4313620/4313620 [==============================] - 205s 47us/step - loss: 1.0629 - mean_squared_error: 1.0404 - val_loss: 1.0812 - val_mean_squared_error: 1.0358\n",
      "Epoch 5/10\n",
      "4313620/4313620 [==============================] - 206s 48us/step - loss: 1.0628 - mean_squared_error: 1.0404 - val_loss: 1.0892 - val_mean_squared_error: 1.0411\n",
      "Epoch 6/10\n",
      "4313620/4313620 [==============================] - 205s 48us/step - loss: 1.0628 - mean_squared_error: 1.0403 - val_loss: 1.0751 - val_mean_squared_error: 1.0351\n",
      "Epoch 7/10\n",
      "4313620/4313620 [==============================] - 202s 47us/step - loss: 1.0630 - mean_squared_error: 1.0405 - val_loss: 1.0747 - val_mean_squared_error: 1.0412\n",
      "Epoch 8/10\n",
      "4313620/4313620 [==============================] - 75023s 17ms/step - loss: 1.0626 - mean_squared_error: 1.0402 - val_loss: 1.0791 - val_mean_squared_error: 1.0414\n",
      "Epoch 9/10\n",
      "4313620/4313620 [==============================] - 443s 103us/step - loss: 1.0627 - mean_squared_error: 1.0403 - val_loss: 1.0756 - val_mean_squared_error: 1.0347\n",
      "Epoch 10/10\n",
      "4313620/4313620 [==============================] - 494s 115us/step - loss: 1.0633 - mean_squared_error: 1.0408 - val_loss: 1.0926 - val_mean_squared_error: 1.0387\n"
     ]
    }
   ],
   "source": [
    "##### merge\n",
    "x = Add()([x, y])\n",
    "\n",
    "# build model \n",
    "model = Model(inputs = [u, m], outputs = x)\n",
    "\n",
    "# compile \n",
    "# if there is penalty, mse from loss includes regularization, will be bigger than real mse (metrics mse)\n",
    "model.compile(loss = 'mse', optimizer = SGD(lr = 0.08, momentum = 0.9), metrics = ['mse'])\n",
    "\n",
    "# fit model \n",
    "r = model.fit(\n",
    "              x = [df_train.userId.values, df_train.movie_idx.values],\n",
    "              y = df_train.rating.values - mu,\n",
    "              epochs = epochs, \n",
    "              batch_size = 128, \n",
    "              validation_data = ([df_test.userId.values, df_test.movie_idx.values],\n",
    "                                  df_test.rating.values - mu))\n",
    "\n"
   ]
  },
  {
   "cell_type": "code",
   "execution_count": 10,
   "metadata": {},
   "outputs": [
    {
     "data": {
      "image/png": "[encoded data removed]",
      "text/plain": [
       "<Figure size 432x288 with 1 Axes>"
      ]
     },
     "metadata": {
      "needs_background": "light"
     },
     "output_type": "display_data"
    },
    {
     "data": {
      "image/png": "[encoded data removed]",
      "text/plain": [
       "<Figure size 432x288 with 1 Axes>"
      ]
     },
     "metadata": {
      "needs_background": "light"
     },
     "output_type": "display_data"
    }
   ],
   "source": [
    "# plot \n",
    "plt.plot(r.history['loss'], label=\"train loss\")\n",
    "plt.plot(r.history['val_loss'], label=\"test loss\")\n",
    "plt.legend()\n",
    "plt.show()\n",
    "\n",
    "# plot mse\n",
    "plt.plot(r.history['mean_squared_error'], label=\"train mse\")\n",
    "plt.plot(r.history['val_mean_squared_error'], label=\"test mse\")\n",
    "plt.legend()\n",
    "plt.show()"
   ]
  }
 ],
 "metadata": {
  "kernelspec": {
   "display_name": "Python 3",
   "language": "python",
   "name": "python3"
  },
  "language_info": {
   "codemirror_mode": {
    "name": "ipython",
    "version": 3
   },
   "file_extension": ".py",
   "mimetype": "text/x-python",
   "name": "python",
   "nbconvert_exporter": "python",
   "pygments_lexer": "ipython3",
   "version": "3.6.7"
  }
 },
 "nbformat": 4,
 "nbformat_minor": 2
}
