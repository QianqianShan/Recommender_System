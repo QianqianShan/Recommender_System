{
 "cells": [
  {
   "cell_type": "markdown",
   "metadata": {},
   "source": [
    "This script renames the indices of userId and movieId so they are consecutive. "
   ]
  },
  {
   "cell_type": "code",
   "execution_count": 3,
   "metadata": {},
   "outputs": [],
   "source": [
    "import os \n",
    "import pandas as pd\n",
    "\n",
    "os.chdir(r'/home/qshan/Desktop/Repos/Big_Data_Projects/Recommender_System/User_User_Collaborative_Filtering')\n",
    "# https://www.kaggle.com/grouplens/movielens-20m-dataset\n",
    "# https://grouplens.org/datasets/movielens/20m/\n",
    "df = pd.read_csv('../data/ml-20m/ratings.csv')\n",
    "\n",
    "\n",
    "# note:\n",
    "# user ids are ordered sequentially from 1..138493 with no missing numbers\n",
    "# movie ids are integers from 1..131262\n",
    "# NOT all movie ids appear\n",
    "# there are only 26744 movie ids\n",
    "# write code to check it yourself!\n",
    "\n",
    "\n",
    "# make the user ids go from 0...N-1\n",
    "df.userId = df.userId - 1\n",
    "\n",
    "# create a mapping for movie ids so ids are consecutive \n",
    "unique_movie_ids = set(df.movieId.values)\n",
    "movie_to_idx = {}\n",
    "count = 0\n",
    "for movie_id in unique_movie_ids:\n",
    "    movie_to_idx[movie_id] = count\n",
    "    count += 1\n",
    "\n",
    "# add mapped id back to data \n",
    "df['movie_idx'] = df.apply(lambda row: movie_to_idx[row.movieId], axis = 1)\n",
    "\n",
    "df = df.drop(columns=['timestamp'])\n",
    "\n",
    "df.to_csv('../data/ml-20m/edited_ratings.csv', index = False)"
   ]
  }
 ],
 "metadata": {
  "kernelspec": {
   "display_name": "Python 3",
   "language": "python",
   "name": "python3"
  },
  "language_info": {
   "codemirror_mode": {
    "name": "ipython",
    "version": 3
   },
   "file_extension": ".py",
   "mimetype": "text/x-python",
   "name": "python",
   "nbconvert_exporter": "python",
   "pygments_lexer": "ipython3",
   "version": "3.6.7"
  }
 },
 "nbformat": 4,
 "nbformat_minor": 2
}
