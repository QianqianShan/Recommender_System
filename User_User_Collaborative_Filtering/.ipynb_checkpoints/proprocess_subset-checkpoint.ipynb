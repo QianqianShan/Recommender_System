{
 "cells": [
  {
   "cell_type": "markdown",
   "metadata": {},
   "source": [
    "This script shrinks the original data to a smaller data set for faster testing. "
   ]
  },
  {
   "cell_type": "code",
   "execution_count": 1,
   "metadata": {},
   "outputs": [
    {
     "data": {
      "text/html": [
       "<div>\n",
       "<style scoped>\n",
       "    .dataframe tbody tr th:only-of-type {\n",
       "        vertical-align: middle;\n",
       "    }\n",
       "\n",
       "    .dataframe tbody tr th {\n",
       "        vertical-align: top;\n",
       "    }\n",
       "\n",
       "    .dataframe thead th {\n",
       "        text-align: right;\n",
       "    }\n",
       "</style>\n",
       "<table border=\"1\" class=\"dataframe\">\n",
       "  <thead>\n",
       "    <tr style=\"text-align: right;\">\n",
       "      <th></th>\n",
       "      <th>userId</th>\n",
       "      <th>movieId</th>\n",
       "      <th>rating</th>\n",
       "      <th>movie_idx</th>\n",
       "    </tr>\n",
       "  </thead>\n",
       "  <tbody>\n",
       "    <tr>\n",
       "      <th>count</th>\n",
       "      <td>2.000026e+07</td>\n",
       "      <td>2.000026e+07</td>\n",
       "      <td>2.000026e+07</td>\n",
       "      <td>2.000026e+07</td>\n",
       "    </tr>\n",
       "    <tr>\n",
       "      <th>mean</th>\n",
       "      <td>6.904487e+04</td>\n",
       "      <td>9.041567e+03</td>\n",
       "      <td>3.525529e+00</td>\n",
       "      <td>3.612611e+03</td>\n",
       "    </tr>\n",
       "    <tr>\n",
       "      <th>std</th>\n",
       "      <td>4.003863e+04</td>\n",
       "      <td>1.978948e+04</td>\n",
       "      <td>1.051989e+00</td>\n",
       "      <td>4.154454e+03</td>\n",
       "    </tr>\n",
       "    <tr>\n",
       "      <th>min</th>\n",
       "      <td>0.000000e+00</td>\n",
       "      <td>1.000000e+00</td>\n",
       "      <td>5.000000e-01</td>\n",
       "      <td>0.000000e+00</td>\n",
       "    </tr>\n",
       "    <tr>\n",
       "      <th>25%</th>\n",
       "      <td>3.439400e+04</td>\n",
       "      <td>9.020000e+02</td>\n",
       "      <td>3.000000e+00</td>\n",
       "      <td>8.870000e+02</td>\n",
       "    </tr>\n",
       "    <tr>\n",
       "      <th>50%</th>\n",
       "      <td>6.914000e+04</td>\n",
       "      <td>2.167000e+03</td>\n",
       "      <td>3.500000e+00</td>\n",
       "      <td>2.085000e+03</td>\n",
       "    </tr>\n",
       "    <tr>\n",
       "      <th>75%</th>\n",
       "      <td>1.036360e+05</td>\n",
       "      <td>4.770000e+03</td>\n",
       "      <td>4.000000e+00</td>\n",
       "      <td>4.677000e+03</td>\n",
       "    </tr>\n",
       "    <tr>\n",
       "      <th>max</th>\n",
       "      <td>1.384920e+05</td>\n",
       "      <td>1.312620e+05</td>\n",
       "      <td>5.000000e+00</td>\n",
       "      <td>2.674300e+04</td>\n",
       "    </tr>\n",
       "  </tbody>\n",
       "</table>\n",
       "</div>"
      ],
      "text/plain": [
       "             userId       movieId        rating     movie_idx\n",
       "count  2.000026e+07  2.000026e+07  2.000026e+07  2.000026e+07\n",
       "mean   6.904487e+04  9.041567e+03  3.525529e+00  3.612611e+03\n",
       "std    4.003863e+04  1.978948e+04  1.051989e+00  4.154454e+03\n",
       "min    0.000000e+00  1.000000e+00  5.000000e-01  0.000000e+00\n",
       "25%    3.439400e+04  9.020000e+02  3.000000e+00  8.870000e+02\n",
       "50%    6.914000e+04  2.167000e+03  3.500000e+00  2.085000e+03\n",
       "75%    1.036360e+05  4.770000e+03  4.000000e+00  4.677000e+03\n",
       "max    1.384920e+05  1.312620e+05  5.000000e+00  2.674300e+04"
      ]
     },
     "execution_count": 1,
     "metadata": {},
     "output_type": "execute_result"
    }
   ],
   "source": [
    "import os \n",
    "import pickle \n",
    "import numpy as np \n",
    "import pandas as pd \n",
    "from collections import Counter \n",
    "\n",
    "# read the edited ratings file by preprocess.py\n",
    "os.chdir(r'/home/qshan/Desktop/Repos/Big_Data_Projects/Recommender_System/User_User_Collaborative_Filtering')\n",
    "df = pd.read_csv('../data/ml-20m/edited_ratings.csv')\n",
    "df.describe()"
   ]
  },
  {
   "cell_type": "code",
   "execution_count": 2,
   "metadata": {},
   "outputs": [
    {
     "name": "stdout",
     "output_type": "stream",
     "text": [
      "Original data size:  20000263\n"
     ]
    }
   ],
   "source": [
    "print('Original data size: ', len(df))"
   ]
  },
  {
   "cell_type": "code",
   "execution_count": 5,
   "metadata": {},
   "outputs": [],
   "source": [
    "# number of occurences of userId and movieId \n",
    "user_ids_count = Counter(df.userId)\n",
    "movie_ids_count = Counter(df.movie_idx)\n"
   ]
  },
  {
   "cell_type": "code",
   "execution_count": 10,
   "metadata": {},
   "outputs": [
    {
     "data": {
      "text/plain": [
       "[(118204, 9254), (8404, 7515), (82417, 5646), (121534, 5520), (125793, 5491)]"
      ]
     },
     "execution_count": 10,
     "metadata": {},
     "output_type": "execute_result"
    }
   ],
   "source": [
    "user_ids_count.most_common(5)"
   ]
  },
  {
   "cell_type": "code",
   "execution_count": 11,
   "metadata": {},
   "outputs": [
    {
     "name": "stdout",
     "output_type": "stream",
     "text": [
      "Add new ids back to data\n"
     ]
    }
   ],
   "source": [
    "# number of users and movies to keep in an subset \n",
    "n = 10000\n",
    "m = 2000\n",
    "\n",
    "# find the most common userId and movieId \n",
    "user_ids = [u_id for u_id, _ in user_ids_count.most_common(n)]\n",
    "movie_ids = [m_id for m_id, _ in movie_ids_count.most_common(m)]\n",
    "\n",
    "# deep copy \n",
    "df_small = df[df.userId.isin(user_ids) & df.movie_idx.isin(movie_ids)].copy()\n",
    "\n",
    "\n",
    "# reindex the user and movie ids so they are consecutive \n",
    "new_user_id_map = {}\n",
    "count = 0 \n",
    "for id_ in user_ids:\n",
    "    new_user_id_map[id_] = count \n",
    "    count += 1 \n",
    "    \n",
    "new_movie_id_map = {}\n",
    "count = 0 \n",
    "for id_ in movie_ids:\n",
    "    new_movie_id_map[id_] = count \n",
    "    count += 1 \n",
    "\n",
    "print('Add new ids back to data')\n",
    "df_small.loc[:, 'userId'] = df_small.apply(lambda row: new_user_id_map[row.userId], axis = 1)\n",
    "df_small.loc[:, 'movie_idx'] = df_small.apply(lambda row: new_movie_id_map[row.movie_idx], axis = 1)\n",
    "print('New ids added')"
   ]
  },
  {
   "cell_type": "code",
   "execution_count": 12,
   "metadata": {},
   "outputs": [
    {
     "data": {
      "text/html": [
       "<div>\n",
       "<style scoped>\n",
       "    .dataframe tbody tr th:only-of-type {\n",
       "        vertical-align: middle;\n",
       "    }\n",
       "\n",
       "    .dataframe tbody tr th {\n",
       "        vertical-align: top;\n",
       "    }\n",
       "\n",
       "    .dataframe thead th {\n",
       "        text-align: right;\n",
       "    }\n",
       "</style>\n",
       "<table border=\"1\" class=\"dataframe\">\n",
       "  <thead>\n",
       "    <tr style=\"text-align: right;\">\n",
       "      <th></th>\n",
       "      <th>userId</th>\n",
       "      <th>movieId</th>\n",
       "      <th>rating</th>\n",
       "      <th>movie_idx</th>\n",
       "    </tr>\n",
       "  </thead>\n",
       "  <tbody>\n",
       "    <tr>\n",
       "      <th>count</th>\n",
       "      <td>5.392025e+06</td>\n",
       "      <td>5.392025e+06</td>\n",
       "      <td>5.392025e+06</td>\n",
       "      <td>5.392025e+06</td>\n",
       "    </tr>\n",
       "    <tr>\n",
       "      <th>mean</th>\n",
       "      <td>4.064699e+03</td>\n",
       "      <td>6.735166e+03</td>\n",
       "      <td>3.448249e+00</td>\n",
       "      <td>6.865674e+02</td>\n",
       "    </tr>\n",
       "    <tr>\n",
       "      <th>std</th>\n",
       "      <td>2.904367e+03</td>\n",
       "      <td>1.498554e+04</td>\n",
       "      <td>1.016841e+00</td>\n",
       "      <td>5.495762e+02</td>\n",
       "    </tr>\n",
       "    <tr>\n",
       "      <th>min</th>\n",
       "      <td>0.000000e+00</td>\n",
       "      <td>1.000000e+00</td>\n",
       "      <td>5.000000e-01</td>\n",
       "      <td>0.000000e+00</td>\n",
       "    </tr>\n",
       "    <tr>\n",
       "      <th>25%</th>\n",
       "      <td>1.471000e+03</td>\n",
       "      <td>1.172000e+03</td>\n",
       "      <td>3.000000e+00</td>\n",
       "      <td>2.110000e+02</td>\n",
       "    </tr>\n",
       "    <tr>\n",
       "      <th>50%</th>\n",
       "      <td>3.614000e+03</td>\n",
       "      <td>2.289000e+03</td>\n",
       "      <td>3.500000e+00</td>\n",
       "      <td>5.520000e+02</td>\n",
       "    </tr>\n",
       "    <tr>\n",
       "      <th>75%</th>\n",
       "      <td>6.432000e+03</td>\n",
       "      <td>4.033000e+03</td>\n",
       "      <td>4.000000e+00</td>\n",
       "      <td>1.078000e+03</td>\n",
       "    </tr>\n",
       "    <tr>\n",
       "      <th>max</th>\n",
       "      <td>9.999000e+03</td>\n",
       "      <td>1.093740e+05</td>\n",
       "      <td>5.000000e+00</td>\n",
       "      <td>1.999000e+03</td>\n",
       "    </tr>\n",
       "  </tbody>\n",
       "</table>\n",
       "</div>"
      ],
      "text/plain": [
       "             userId       movieId        rating     movie_idx\n",
       "count  5.392025e+06  5.392025e+06  5.392025e+06  5.392025e+06\n",
       "mean   4.064699e+03  6.735166e+03  3.448249e+00  6.865674e+02\n",
       "std    2.904367e+03  1.498554e+04  1.016841e+00  5.495762e+02\n",
       "min    0.000000e+00  1.000000e+00  5.000000e-01  0.000000e+00\n",
       "25%    1.471000e+03  1.172000e+03  3.000000e+00  2.110000e+02\n",
       "50%    3.614000e+03  2.289000e+03  3.500000e+00  5.520000e+02\n",
       "75%    6.432000e+03  4.033000e+03  4.000000e+00  1.078000e+03\n",
       "max    9.999000e+03  1.093740e+05  5.000000e+00  1.999000e+03"
      ]
     },
     "execution_count": 12,
     "metadata": {},
     "output_type": "execute_result"
    }
   ],
   "source": [
    "df_small.describe()"
   ]
  },
  {
   "cell_type": "code",
   "execution_count": 13,
   "metadata": {},
   "outputs": [],
   "source": [
    "# save to disk \n",
    "df_small.to_csv('../data/ml-20m/small_ratings.csv', index = False)\n"
   ]
  }
 ],
 "metadata": {
  "kernelspec": {
   "display_name": "Python 3",
   "language": "python",
   "name": "python3"
  },
  "language_info": {
   "codemirror_mode": {
    "name": "ipython",
    "version": 3
   },
   "file_extension": ".py",
   "mimetype": "text/x-python",
   "name": "python",
   "nbconvert_exporter": "python",
   "pygments_lexer": "ipython3",
   "version": "3.6.7"
  }
 },
 "nbformat": 4,
 "nbformat_minor": 2
}
