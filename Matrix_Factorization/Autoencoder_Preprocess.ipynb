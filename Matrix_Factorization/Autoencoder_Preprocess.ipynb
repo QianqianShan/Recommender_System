{
 "cells": [
  {
   "cell_type": "markdown",
   "metadata": {},
   "source": [
    "Save the train and test set in sparse matrices.  "
   ]
  },
  {
   "cell_type": "code",
   "execution_count": 34,
   "metadata": {},
   "outputs": [],
   "source": [
    "import os \n",
    "import numpy as np\n",
    "import pandas as pd\n",
    "import matplotlib.pyplot as plt\n",
    "from sklearn.utils import shuffle\n",
    "from scipy.sparse import lil_matrix, csr_matrix, save_npz, load_npz"
   ]
  },
  {
   "cell_type": "code",
   "execution_count": 35,
   "metadata": {},
   "outputs": [],
   "source": [
    "# load data \n",
    "os.chdir(r'/home/qshan/Desktop/Repos/Big_Data_Projects/Recommender_System/Matrix_Factorization')\n",
    "# df = pd.read_csv('../data/ml-20m/edited_ratings.csv')\n",
    "df = pd.read_csv('../data/ml-20m/small_ratings.csv')\n"
   ]
  },
  {
   "cell_type": "code",
   "execution_count": 36,
   "metadata": {},
   "outputs": [
    {
     "name": "stdout",
     "output_type": "stream",
     "text": [
      "Max of users id, N = 10000 \n",
      "\n",
      "Max movies id M, = 2000 \n",
      "\n"
     ]
    }
   ],
   "source": [
    "# number of users and movies \n",
    "N = df.userId.max() + 1\n",
    "M = df.movie_idx.max() + 1\n",
    "print('Max of users id, N =', N, '\\n')\n",
    "print('Max movies id M, =', M, '\\n')"
   ]
  },
  {
   "cell_type": "code",
   "execution_count": 37,
   "metadata": {},
   "outputs": [],
   "source": [
    "# shuffle the data and split to train and test  \n",
    "df = shuffle(df)\n",
    "cutoff = int(0.8 * len(df))\n",
    "df_train = df.iloc[ :cutoff]\n",
    "df_test = df.iloc[cutoff: ]"
   ]
  },
  {
   "cell_type": "code",
   "execution_count": 38,
   "metadata": {},
   "outputs": [],
   "source": [
    "# list of lists matrix for constructing sparse matrix incrementally \n",
    "# lil format is better for adding new values \n",
    "A = lil_matrix((N, M))\n",
    "\n",
    "count = 0 \n",
    "n_total = len(df_train)\n"
   ]
  },
  {
   "cell_type": "code",
   "execution_count": 39,
   "metadata": {},
   "outputs": [],
   "source": [
    "# convert train matrix to sparse matrix \n",
    "def update_data(row, data_type):\n",
    "    global count\n",
    "    count += 1 \n",
    "    if count % 500000 == 0:\n",
    "        print('%.3f processed' % (float(count)/n_total))\n",
    "    i = int(row.userId)\n",
    "    j = int(row.movie_idx)\n",
    "    if data_type == 'train':\n",
    "        A[i, j] = row.rating\n",
    "    elif data_type == 'test':\n",
    "        A_test[i, j] = row.rating\n",
    "    else:\n",
    "        print(\"Please specify the data type as either 'train' or 'test'\")\n"
   ]
  },
  {
   "cell_type": "code",
   "execution_count": 40,
   "metadata": {},
   "outputs": [
    {
     "name": "stdout",
     "output_type": "stream",
     "text": [
      "0.116 processed\n",
      "0.232 processed\n",
      "0.348 processed\n",
      "0.464 processed\n",
      "0.580 processed\n",
      "0.695 processed\n",
      "0.811 processed\n",
      "0.927 processed\n"
     ]
    }
   ],
   "source": [
    "# convert original train matrix to sparse matrix A \n",
    "df_train.apply(update_data, args = ('train', ), axis = 1)\n",
    "\n",
    "# save to compressed sparse row (csr) format which is better for saving  \n",
    "A = A.tocsr()\n",
    "save_npz('A_train.npz', A)"
   ]
  },
  {
   "cell_type": "code",
   "execution_count": 41,
   "metadata": {},
   "outputs": [
    {
     "name": "stdout",
     "output_type": "stream",
     "text": [
      "0.464 processed\n",
      "0.927 processed\n"
     ]
    },
    {
     "data": {
      "text/plain": [
       "2485340    None\n",
       "280327     None\n",
       "2130137    None\n",
       "4967129    None\n",
       "3790402    None\n",
       "4901822    None\n",
       "2651754    None\n",
       "2553367    None\n",
       "3565344    None\n",
       "1001148    None\n",
       "1645509    None\n",
       "4691199    None\n",
       "3881383    None\n",
       "1017817    None\n",
       "1269234    None\n",
       "671485     None\n",
       "5328877    None\n",
       "342993     None\n",
       "1251169    None\n",
       "262477     None\n",
       "42869      None\n",
       "4152609    None\n",
       "1267635    None\n",
       "805816     None\n",
       "4910211    None\n",
       "1418971    None\n",
       "3589034    None\n",
       "440887     None\n",
       "3986309    None\n",
       "3650011    None\n",
       "           ... \n",
       "778617     None\n",
       "774527     None\n",
       "450539     None\n",
       "2564058    None\n",
       "5225401    None\n",
       "5290359    None\n",
       "2549769    None\n",
       "725663     None\n",
       "2728523    None\n",
       "3209030    None\n",
       "1858044    None\n",
       "4131235    None\n",
       "2071355    None\n",
       "3795320    None\n",
       "2307662    None\n",
       "1470850    None\n",
       "2664247    None\n",
       "4330593    None\n",
       "2258464    None\n",
       "3218251    None\n",
       "3335669    None\n",
       "4922456    None\n",
       "560046     None\n",
       "2612674    None\n",
       "2908882    None\n",
       "2440142    None\n",
       "4713676    None\n",
       "2601500    None\n",
       "1716619    None\n",
       "1514179    None\n",
       "Length: 1078405, dtype: object"
      ]
     },
     "execution_count": 41,
     "metadata": {},
     "output_type": "execute_result"
    }
   ],
   "source": [
    "# process test data \n",
    "n_total = len(df_test)\n",
    "A_test = lil_matrix((N, M))\n",
    "count = 0 \n",
    "\n",
    "df_test.apply(update_data, args = ('test', ), axis = 1)"
   ]
  },
  {
   "cell_type": "code",
   "execution_count": 42,
   "metadata": {},
   "outputs": [],
   "source": [
    "# save data \n",
    "A_test = A_test.tocsr()\n",
    "save_npz('A_test.npz', A_test)"
   ]
  }
 ],
 "metadata": {
  "kernelspec": {
   "display_name": "Python 3",
   "language": "python",
   "name": "python3"
  },
  "language_info": {
   "codemirror_mode": {
    "name": "ipython",
    "version": 3
   },
   "file_extension": ".py",
   "mimetype": "text/x-python",
   "name": "python",
   "nbconvert_exporter": "python",
   "pygments_lexer": "ipython3",
   "version": "3.6.7"
  }
 },
 "nbformat": 4,
 "nbformat_minor": 2
}
