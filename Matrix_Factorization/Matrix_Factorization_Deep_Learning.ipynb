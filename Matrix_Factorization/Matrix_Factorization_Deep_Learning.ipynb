{
 "cells": [
  {
   "cell_type": "markdown",
   "metadata": {},
   "source": [
    "Concatenate information of U and W as input a neural network with 2 hidden layers."
   ]
  },
  {
   "cell_type": "code",
   "execution_count": 7,
   "metadata": {},
   "outputs": [],
   "source": [
    "import os \n",
    "import pickle\n",
    "import numpy as np\n",
    "import pandas as pd\n",
    "import matplotlib.pyplot as plt\n",
    "from sklearn.utils import shuffle\n",
    "\n",
    "from keras.models import Model\n",
    "from keras.layers import Input, Embedding, Flatten, Dense, Concatenate\n",
    "from keras.layers import Dropout, BatchNormalization, Activation\n",
    "from keras.regularizers import l2\n",
    "from keras.optimizers import SGD, Adam"
   ]
  },
  {
   "cell_type": "code",
   "execution_count": 8,
   "metadata": {},
   "outputs": [
    {
     "data": {
      "text/html": [
       "<div>\n",
       "<style scoped>\n",
       "    .dataframe tbody tr th:only-of-type {\n",
       "        vertical-align: middle;\n",
       "    }\n",
       "\n",
       "    .dataframe tbody tr th {\n",
       "        vertical-align: top;\n",
       "    }\n",
       "\n",
       "    .dataframe thead th {\n",
       "        text-align: right;\n",
       "    }\n",
       "</style>\n",
       "<table border=\"1\" class=\"dataframe\">\n",
       "  <thead>\n",
       "    <tr style=\"text-align: right;\">\n",
       "      <th></th>\n",
       "      <th>userId</th>\n",
       "      <th>movieId</th>\n",
       "      <th>rating</th>\n",
       "      <th>movie_idx</th>\n",
       "    </tr>\n",
       "  </thead>\n",
       "  <tbody>\n",
       "    <tr>\n",
       "      <th>0</th>\n",
       "      <td>7307</td>\n",
       "      <td>1</td>\n",
       "      <td>4.5</td>\n",
       "      <td>10</td>\n",
       "    </tr>\n",
       "    <tr>\n",
       "      <th>1</th>\n",
       "      <td>7307</td>\n",
       "      <td>10</td>\n",
       "      <td>2.5</td>\n",
       "      <td>68</td>\n",
       "    </tr>\n",
       "    <tr>\n",
       "      <th>2</th>\n",
       "      <td>7307</td>\n",
       "      <td>19</td>\n",
       "      <td>3.5</td>\n",
       "      <td>143</td>\n",
       "    </tr>\n",
       "    <tr>\n",
       "      <th>3</th>\n",
       "      <td>7307</td>\n",
       "      <td>32</td>\n",
       "      <td>5.0</td>\n",
       "      <td>19</td>\n",
       "    </tr>\n",
       "    <tr>\n",
       "      <th>4</th>\n",
       "      <td>7307</td>\n",
       "      <td>39</td>\n",
       "      <td>4.5</td>\n",
       "      <td>85</td>\n",
       "    </tr>\n",
       "  </tbody>\n",
       "</table>\n",
       "</div>"
      ],
      "text/plain": [
       "   userId  movieId  rating  movie_idx\n",
       "0    7307        1     4.5         10\n",
       "1    7307       10     2.5         68\n",
       "2    7307       19     3.5        143\n",
       "3    7307       32     5.0         19\n",
       "4    7307       39     4.5         85"
      ]
     },
     "execution_count": 8,
     "metadata": {},
     "output_type": "execute_result"
    }
   ],
   "source": [
    "# load data \n",
    "os.chdir(r'/home/qshan/Desktop/Repos/Big_Data_Projects/Recommender_System/Matrix_Factorization')\n",
    "df = pd.read_csv('../data/ml-20m/small_ratings.csv')\n",
    "df.head()"
   ]
  },
  {
   "cell_type": "code",
   "execution_count": 9,
   "metadata": {},
   "outputs": [
    {
     "name": "stdout",
     "output_type": "stream",
     "text": [
      "Max of users id, N = 10000 \n",
      "\n",
      "Max movies id M, = 2000 \n",
      "\n"
     ]
    }
   ],
   "source": [
    "# number of users and movies \n",
    "N = df.userId.max() + 1\n",
    "M = df.movie_idx.max() + 1\n",
    "print('Max of users id, N =', N, '\\n')\n",
    "print('Max movies id M, =', M, '\\n')"
   ]
  },
  {
   "cell_type": "code",
   "execution_count": 10,
   "metadata": {},
   "outputs": [],
   "source": [
    "# randomly shuffle to obtain train and test data \n",
    "df = shuffle(df)\n",
    "cutoff = int(0.8 * len(df))\n",
    "df_train = df.iloc[ :cutoff]\n",
    "df_test = df.iloc[cutoff: ]"
   ]
  },
  {
   "cell_type": "code",
   "execution_count": 11,
   "metadata": {},
   "outputs": [],
   "source": [
    "# initialization \n",
    "\n",
    "# latent dimensionality \n",
    "K = 10 \n",
    "# global mean \n",
    "mu = df_train.rating.mean()\n",
    "epochs = 20\n",
    "# penalty \n",
    "lambda_ = 10."
   ]
  },
  {
   "cell_type": "code",
   "execution_count": 12,
   "metadata": {},
   "outputs": [
    {
     "name": "stdout",
     "output_type": "stream",
     "text": [
      "WARNING:tensorflow:From /home/qshan/.local/lib/python3.6/site-packages/keras/backend/tensorflow_backend.py:3445: calling dropout (from tensorflow.python.ops.nn_ops) with keep_prob is deprecated and will be removed in a future version.\n",
      "Instructions for updating:\n",
      "Please use `rate` instead of `keep_prob`. Rate should be set to `rate = 1 - keep_prob`.\n"
     ]
    }
   ],
   "source": [
    "# Keras model\n",
    "# two inputs with batch size = 1 \n",
    "u = Input(shape = (1, ))\n",
    "m = Input(shape = (1, ))\n",
    "\n",
    "# (N, 1, K), for a sequence of len 1 \n",
    "u_embedding = Embedding(N, K, embeddings_regularizer = l2(lambda_))(u) \n",
    "m_embedding = Embedding(M, K, embeddings_regularizer = l2(lambda_))(m)\n",
    "\n",
    "# flatten \n",
    "u_embedding = Flatten()(u_embedding) # (N, K)\n",
    "m_embedding = Flatten()(m_embedding) # (N, K)\n",
    "\n",
    "# NN input \n",
    "x = Concatenate()([u_embedding, m_embedding]) # (N, 2K)\n",
    "\n",
    "# NN \n",
    "x = Dense(400)(x)\n",
    "x = BatchNormalization()(x)\n",
    "x = Activation('relu')(x)\n",
    "x = Dropout(0.3)(x)\n",
    "x = Dense(100)(x)\n",
    "x = BatchNormalization()(x)\n",
    "x = Activation('relu')(x)\n",
    "# rating prediction of size 1 \n",
    "x = Dense(1)(x)"
   ]
  },
  {
   "cell_type": "code",
   "execution_count": 13,
   "metadata": {
    "scrolled": true
   },
   "outputs": [
    {
     "name": "stdout",
     "output_type": "stream",
     "text": [
      "WARNING:tensorflow:From /home/qshan/.local/lib/python3.6/site-packages/tensorflow/python/ops/math_ops.py:3066: to_int32 (from tensorflow.python.ops.math_ops) is deprecated and will be removed in a future version.\n",
      "Instructions for updating:\n",
      "Use tf.cast instead.\n",
      "Train on 4313620 samples, validate on 1078405 samples\n",
      "Epoch 1/20\n",
      "4313620/4313620 [==============================] - 366s 85us/step - loss: 2.7094 - mean_squared_error: 1.0427 - val_loss: 9.9799 - val_mean_squared_error: 1.0676\n",
      "Epoch 2/20\n",
      "4313620/4313620 [==============================] - 380s 88us/step - loss: 2.3676 - mean_squared_error: 1.0404 - val_loss: 5.6563 - val_mean_squared_error: 1.0614\n",
      "Epoch 3/20\n",
      "4313620/4313620 [==============================] - 210s 49us/step - loss: 2.4221 - mean_squared_error: 1.0399 - val_loss: 4.4339 - val_mean_squared_error: 1.0373\n",
      "Epoch 4/20\n",
      "4313620/4313620 [==============================] - 208s 48us/step - loss: 2.6355 - mean_squared_error: 1.0394 - val_loss: 9.7172 - val_mean_squared_error: 1.0358\n",
      "Epoch 5/20\n",
      "4313620/4313620 [==============================] - 436s 101us/step - loss: 2.7852 - mean_squared_error: 1.0397 - val_loss: 3.6234 - val_mean_squared_error: 1.0363\n",
      "Epoch 6/20\n",
      "4313620/4313620 [==============================] - 438s 101us/step - loss: 2.9005 - mean_squared_error: 1.0393 - val_loss: 4.0799 - val_mean_squared_error: 1.0344\n",
      "Epoch 7/20\n",
      "4313620/4313620 [==============================] - 488s 113us/step - loss: 2.9214 - mean_squared_error: 1.0395 - val_loss: 5.5808 - val_mean_squared_error: 1.0497\n",
      "Epoch 8/20\n",
      "4313620/4313620 [==============================] - 502s 116us/step - loss: 2.7360 - mean_squared_error: 1.0400 - val_loss: 4.7083 - val_mean_squared_error: 1.0901\n",
      "Epoch 9/20\n",
      "4313620/4313620 [==============================] - 522s 121us/step - loss: 2.8551 - mean_squared_error: 1.0396 - val_loss: 13.4125 - val_mean_squared_error: 1.0976\n",
      "Epoch 10/20\n",
      "4313620/4313620 [==============================] - 531s 123us/step - loss: 2.8514 - mean_squared_error: 1.0399 - val_loss: 3.4817 - val_mean_squared_error: 1.0381\n",
      "Epoch 11/20\n",
      "4313620/4313620 [==============================] - 571s 132us/step - loss: 2.8570 - mean_squared_error: 1.0399 - val_loss: 5.3826 - val_mean_squared_error: 1.0382\n",
      "Epoch 12/20\n",
      "4313620/4313620 [==============================] - 567s 131us/step - loss: 2.8236 - mean_squared_error: 1.0396 - val_loss: 4.4270 - val_mean_squared_error: 1.0424\n",
      "Epoch 13/20\n",
      "4313620/4313620 [==============================] - 508s 118us/step - loss: 2.6799 - mean_squared_error: 1.0396 - val_loss: 3.8281 - val_mean_squared_error: 1.0321\n",
      "Epoch 14/20\n",
      "4313620/4313620 [==============================] - 498s 116us/step - loss: 2.7008 - mean_squared_error: 1.0398 - val_loss: 4.5078 - val_mean_squared_error: 1.0352\n",
      "Epoch 15/20\n",
      "4313620/4313620 [==============================] - 407s 94us/step - loss: 2.9066 - mean_squared_error: 1.0395 - val_loss: 3.8625 - val_mean_squared_error: 1.0318\n",
      "Epoch 16/20\n",
      "4313620/4313620 [==============================] - 185s 43us/step - loss: 3.0041 - mean_squared_error: 1.0393 - val_loss: 4.3996 - val_mean_squared_error: 1.0327\n",
      "Epoch 17/20\n",
      "4313620/4313620 [==============================] - 185s 43us/step - loss: 3.0712 - mean_squared_error: 1.0392 - val_loss: 8.4082 - val_mean_squared_error: 1.0354\n",
      "Epoch 18/20\n",
      "4313620/4313620 [==============================] - 184s 43us/step - loss: 3.0907 - mean_squared_error: 1.0390 - val_loss: 16.6517 - val_mean_squared_error: 1.0577\n",
      "Epoch 19/20\n",
      "4313620/4313620 [==============================] - 184s 43us/step - loss: 3.1465 - mean_squared_error: 1.0391 - val_loss: 5.5612 - val_mean_squared_error: 1.0371\n",
      "Epoch 20/20\n",
      "4313620/4313620 [==============================] - 184s 43us/step - loss: 3.1832 - mean_squared_error: 1.0392 - val_loss: 4.3260 - val_mean_squared_error: 1.0310\n"
     ]
    }
   ],
   "source": [
    "# build model \n",
    "model = Model(inputs = [u, m], outputs = x)\n",
    "\n",
    "# compile \n",
    "# if there is penalty, mse from loss includes regularization, will be bigger than real mse (metrics mse)\n",
    "model.compile(loss = 'mse', optimizer = SGD(lr = 0.08, momentum = 0.9), metrics = ['mse'])\n",
    "\n",
    "# fit model \n",
    "r = model.fit(\n",
    "              x = [df_train.userId.values, df_train.movie_idx.values],\n",
    "              y = df_train.rating.values - mu,\n",
    "              epochs = epochs, \n",
    "              batch_size = 128, \n",
    "              validation_data = ([df_test.userId.values, df_test.movie_idx.values],\n",
    "                                  df_test.rating.values - mu))"
   ]
  },
  {
   "cell_type": "code",
   "execution_count": 14,
   "metadata": {},
   "outputs": [
    {
     "data": {
      "image/png": "[encoded data removed]",
      "text/plain": [
       "<Figure size 432x288 with 1 Axes>"
      ]
     },
     "metadata": {
      "needs_background": "light"
     },
     "output_type": "display_data"
    },
    {
     "data": {
      "image/png": "[encoded data removed]",
      "text/plain": [
       "<Figure size 432x288 with 1 Axes>"
      ]
     },
     "metadata": {
      "needs_background": "light"
     },
     "output_type": "display_data"
    }
   ],
   "source": [
    "# plot \n",
    "plt.plot(r.history['loss'], label=\"train loss\")\n",
    "plt.plot(r.history['val_loss'], label=\"test loss\")\n",
    "plt.legend()\n",
    "plt.show()\n",
    "\n",
    "# plot mse\n",
    "plt.plot(r.history['mean_squared_error'], label=\"train mse\")\n",
    "plt.plot(r.history['val_mean_squared_error'], label=\"test mse\")\n",
    "plt.legend()\n",
    "plt.show()"
   ]
  }
 ],
 "metadata": {
  "kernelspec": {
   "display_name": "Python 3",
   "language": "python",
   "name": "python3"
  },
  "language_info": {
   "codemirror_mode": {
    "name": "ipython",
    "version": 3
   },
   "file_extension": ".py",
   "mimetype": "text/x-python",
   "name": "python",
   "nbconvert_exporter": "python",
   "pygments_lexer": "ipython3",
   "version": "3.6.7"
  }
 },
 "nbformat": 4,
 "nbformat_minor": 2
}
