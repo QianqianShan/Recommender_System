{
 "cells": [
  {
   "cell_type": "markdown",
   "metadata": {},
   "source": [
    "Implement autoencoder with 1 hidden layer"
   ]
  },
  {
   "cell_type": "code",
   "execution_count": 2,
   "metadata": {},
   "outputs": [
    {
     "name": "stderr",
     "output_type": "stream",
     "text": [
      "Using TensorFlow backend.\n"
     ]
    }
   ],
   "source": [
    "import os \n",
    "import numpy as np\n",
    "import pandas as pd\n",
    "import matplotlib.pyplot as plt\n",
    "from sklearn.utils import shuffle\n",
    "from scipy.sparse import save_npz, load_npz\n",
    "\n",
    "import keras.backend as K\n",
    "from keras.models import Model\n",
    "from keras.layers import Input, Dropout, Dense\n",
    "from keras.regularizers import l2\n",
    "from keras.optimizers import SGD"
   ]
  },
  {
   "cell_type": "code",
   "execution_count": 3,
   "metadata": {},
   "outputs": [],
   "source": [
    "# setup \n",
    "batch_size = 128 \n",
    "epochs = 20 \n",
    "penalty = 0.001\n",
    "\n",
    "\n",
    "# load data \n",
    "os.chdir(r'/home/qshan/Desktop/Repos/Big_Data_Projects/Recommender_System/Matrix_Factorization')\n",
    "A = load_npz('A_train.npz')\n",
    "A_test = load_npz('A_test.npz')\n",
    "mask = (A > 0) * 1.0 \n",
    "mask_test = (A_test > 0) * 1.0"
   ]
  },
  {
   "cell_type": "code",
   "execution_count": 19,
   "metadata": {},
   "outputs": [
    {
     "name": "stdout",
     "output_type": "stream",
     "text": [
      "N: 10000 M: 2000\n",
      "n_batches: 79\n"
     ]
    }
   ],
   "source": [
    "# make copies since we will shuffle\n",
    "A_copy = A.copy()\n",
    "mask_copy = mask.copy()\n",
    "A_test_copy = A_test.copy()\n",
    "mask_test_copy = mask_test.copy()\n",
    "\n",
    "N, M = A.shape\n",
    "print(\"N:\", N, \"M:\", M)\n",
    "print(\"n_batches:\", N // batch_size + 1)"
   ]
  },
  {
   "cell_type": "code",
   "execution_count": 20,
   "metadata": {},
   "outputs": [
    {
     "name": "stdout",
     "output_type": "stream",
     "text": [
      "Overall mean:  3.4480663572591004\n"
     ]
    }
   ],
   "source": [
    "# overall mean to centralize the ratings \n",
    "mu = A.sum() / mask.sum()\n",
    "print('Overall mean: ', mu)"
   ]
  },
  {
   "cell_type": "code",
   "execution_count": 21,
   "metadata": {},
   "outputs": [],
   "source": [
    "# build autoencoder model with 1 hidden layer \n",
    "\n",
    "i = Input(shape = (M, ))\n",
    "\n",
    "# dropout regularization\n",
    "x = Dropout(0.7)(i)\n",
    "\n",
    "# l2 norm regularization\n",
    "x = Dense(700, activation = 'tanh', kernel_regularizer = l2(penalty))(x)\n",
    "# output \n",
    "x = Dense(M, kernel_regularizer = l2(penalty))(x)"
   ]
  },
  {
   "cell_type": "code",
   "execution_count": 22,
   "metadata": {},
   "outputs": [],
   "source": [
    "# redefine loss function to exclude the missing ratings \n",
    "def loss_mse(y_true, y_pred):\n",
    "    # cast boolean array to 00110011...\n",
    "    mask = K.cast(K.not_equal(y_true, 0), dtype = 'float32')\n",
    "    residual = y_pred - y_true\n",
    "    # only account for the ratings nonzero (nonmissing)\n",
    "    sqdiff = residual * residual * mask \n",
    "    sse = K.sum(K.sum(sqdiff))\n",
    "    n = K.sum(K.sum(mask))\n",
    "    return sse / n "
   ]
  },
  {
   "cell_type": "code",
   "execution_count": 26,
   "metadata": {},
   "outputs": [],
   "source": [
    "def train_generator(A, mask):\n",
    "    while True:\n",
    "        # shuffle the data for each epoch\n",
    "        A, mask = shuffle(A, mask)\n",
    "        n_batches = A.shape[0] // batch_size + 1 \n",
    "        for i in range(n_batches):\n",
    "            upper_limit = min((i + 1) * batch_size, A.shape[0])\n",
    "            a = A[i * batch_size : upper_limit].toarray()\n",
    "            m = mask[i * batch_size : upper_limit].toarray()\n",
    "            # center the data, and keep 0s (missing) as there are \n",
    "            a = a - mu * m\n",
    "            yield a, a \n",
    "    \n",
    "def test_generator(A, mask, A_test, mask_test):\n",
    "    n_batches = A.shape[0] // batch_size + 1 \n",
    "    while True:\n",
    "        # don't shuffle, just use the current batch\n",
    "        for i in range(n_batches):\n",
    "            # note that here i is also ordered by user id, so A[i] and A_test[i] are refering the same user\n",
    "            upper_limit = min( (i + 1) * batch_size, A.shape[0])\n",
    "            a = A[i * batch_size : upper_limit].toarray()\n",
    "            m = mask[i * batch_size :upper_limit].toarray()\n",
    "            a_test = A_test[i * batch_size : upper_limit].toarray()\n",
    "            m_test = mask_test[i * batch_size : upper_limit].toarray()\n",
    "            a = a - mu * m \n",
    "            a_test = a_test - mu * m_test \n",
    "            # return input (from train) and targets (from test) \n",
    "            yield a, a_test "
   ]
  },
  {
   "cell_type": "code",
   "execution_count": 27,
   "metadata": {},
   "outputs": [
    {
     "name": "stdout",
     "output_type": "stream",
     "text": [
      "Epoch 1/20\n",
      "79/79 [==============================] - 15s 195ms/step - loss: 1.8152 - loss_mse: 0.6611 - val_loss: 1.6520 - val_loss_mse: 0.6402\n",
      "Epoch 2/20\n",
      "79/79 [==============================] - 18s 230ms/step - loss: 1.5188 - loss_mse: 0.6252 - val_loss: 1.4078 - val_loss_mse: 0.6245\n",
      "Epoch 3/20\n",
      "79/79 [==============================] - 21s 267ms/step - loss: 1.2952 - loss_mse: 0.6006 - val_loss: 1.2258 - val_loss_mse: 0.6141\n",
      "Epoch 4/20\n",
      "79/79 [==============================] - 21s 263ms/step - loss: 1.1328 - loss_mse: 0.5879 - val_loss: 1.0898 - val_loss_mse: 0.6075\n",
      "Epoch 5/20\n",
      "79/79 [==============================] - 20s 253ms/step - loss: 1.0092 - loss_mse: 0.5774 - val_loss: 0.9873 - val_loss_mse: 0.6028\n",
      "Epoch 6/20\n",
      "79/79 [==============================] - 19s 246ms/step - loss: 0.9178 - loss_mse: 0.5718 - val_loss: 0.9097 - val_loss_mse: 0.5996\n",
      "Epoch 7/20\n",
      "79/79 [==============================] - 17s 210ms/step - loss: 0.8507 - loss_mse: 0.5698 - val_loss: 0.8503 - val_loss_mse: 0.5969\n",
      "Epoch 8/20\n",
      "79/79 [==============================] - 16s 203ms/step - loss: 0.7990 - loss_mse: 0.5680 - val_loss: 0.8051 - val_loss_mse: 0.5951\n",
      "Epoch 9/20\n",
      "79/79 [==============================] - 16s 205ms/step - loss: 0.7591 - loss_mse: 0.5663 - val_loss: 0.7706 - val_loss_mse: 0.5942\n",
      "Epoch 10/20\n",
      "79/79 [==============================] - 16s 206ms/step - loss: 0.7298 - loss_mse: 0.5665 - val_loss: 0.7437 - val_loss_mse: 0.5931\n",
      "Epoch 11/20\n",
      "79/79 [==============================] - 17s 209ms/step - loss: 0.7068 - loss_mse: 0.5664 - val_loss: 0.7224 - val_loss_mse: 0.5917\n",
      "Epoch 12/20\n",
      "79/79 [==============================] - 16s 209ms/step - loss: 0.6899 - loss_mse: 0.5673 - val_loss: 0.7061 - val_loss_mse: 0.5912\n",
      "Epoch 13/20\n",
      "79/79 [==============================] - 17s 210ms/step - loss: 0.6752 - loss_mse: 0.5664 - val_loss: 0.6935 - val_loss_mse: 0.5908\n",
      "Epoch 14/20\n",
      "79/79 [==============================] - 17s 209ms/step - loss: 0.6658 - loss_mse: 0.5681 - val_loss: 0.6829 - val_loss_mse: 0.5897\n",
      "Epoch 15/20\n",
      "79/79 [==============================] - 16s 208ms/step - loss: 0.6578 - loss_mse: 0.5686 - val_loss: 0.6748 - val_loss_mse: 0.5890\n",
      "Epoch 16/20\n",
      "79/79 [==============================] - 17s 209ms/step - loss: 0.6508 - loss_mse: 0.5682 - val_loss: 0.6682 - val_loss_mse: 0.5884\n",
      "Epoch 17/20\n",
      "79/79 [==============================] - 17s 210ms/step - loss: 0.6449 - loss_mse: 0.5677 - val_loss: 0.6633 - val_loss_mse: 0.5884\n",
      "Epoch 18/20\n",
      "79/79 [==============================] - 16s 206ms/step - loss: 0.6413 - loss_mse: 0.5683 - val_loss: 0.6592 - val_loss_mse: 0.5882\n",
      "Epoch 19/20\n",
      "79/79 [==============================] - 16s 206ms/step - loss: 0.6403 - loss_mse: 0.5709 - val_loss: 0.6556 - val_loss_mse: 0.5876\n",
      "Epoch 20/20\n",
      "79/79 [==============================] - 16s 201ms/step - loss: 0.6357 - loss_mse: 0.5687 - val_loss: 0.6529 - val_loss_mse: 0.5873\n",
      "dict_keys(['val_loss', 'val_loss_mse', 'loss', 'loss_mse'])\n"
     ]
    }
   ],
   "source": [
    "# model \n",
    "model = Model(i, x)\n",
    "model.compile(loss = loss_mse, optimizer = SGD(lr = 0.08, momentum = 0.9), metrics = [loss_mse])\n",
    "\n",
    "r = model.fit_generator(train_generator(A, mask), \n",
    "                       validation_data = test_generator(A_copy, mask_copy, A_test, mask_test),\n",
    "                       epochs = epochs, steps_per_epoch = A.shape[0] // batch_size + 1,\n",
    "                       validation_steps = A_test.shape[0] // batch_size + 1)\n",
    "print(r.history.keys())"
   ]
  },
  {
   "cell_type": "code",
   "execution_count": 29,
   "metadata": {},
   "outputs": [
    {
     "data": {
      "image/png": "[encoded data removed]",
      "text/plain": [
       "<Figure size 432x288 with 1 Axes>"
      ]
     },
     "metadata": {
      "needs_background": "light"
     },
     "output_type": "display_data"
    },
    {
     "data": {
      "image/png": "[encoded data removed]",
      "text/plain": [
       "<Figure size 432x288 with 1 Axes>"
      ]
     },
     "metadata": {
      "needs_background": "light"
     },
     "output_type": "display_data"
    }
   ],
   "source": [
    "# plot losses\n",
    "plt.plot(r.history['loss'], label=\"train loss\")\n",
    "plt.plot(r.history['val_loss'], label=\"test loss\")\n",
    "plt.legend()\n",
    "plt.show()\n",
    "\n",
    "# plot mse\n",
    "plt.plot(r.history['loss_mse'], label=\"train mse\")\n",
    "plt.plot(r.history['val_loss_mse'], label=\"test mse\")\n",
    "plt.legend()\n",
    "plt.show()"
   ]
  }
 ],
 "metadata": {
  "kernelspec": {
   "display_name": "Python 3",
   "language": "python",
   "name": "python3"
  },
  "language_info": {
   "codemirror_mode": {
    "name": "ipython",
    "version": 3
   },
   "file_extension": ".py",
   "mimetype": "text/x-python",
   "name": "python",
   "nbconvert_exporter": "python",
   "pygments_lexer": "ipython3",
   "version": "3.6.8"
  }
 },
 "nbformat": 4,
 "nbformat_minor": 2
}
